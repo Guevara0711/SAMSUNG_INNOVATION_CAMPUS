{
 "cells": [
  {
   "cell_type": "code",
   "execution_count": null,
   "id": "afaed386",
   "metadata": {},
   "outputs": [],
   "source": [
    "#Listas de indexado, Listas, tuplas.\n",
    "#Python es utilizado para analisis de datos y programacion.\n",
    "#Python es un lenguaje de programacion interpretado.\n",
    "#Python es un lenguaje de programacion orientado a objetos."
   ]
  },
  {
   "cell_type": "code",
   "execution_count": 5,
   "id": "ea23f5cb",
   "metadata": {},
   "outputs": [],
   "source": [
    "persona1 = [\"Juan\", 20, \"M\", \"Calle falsa 123\"]\n",
    "persona2 = [\"Maria\", 25, \"F\", \"Calle verdadera 123\"]\n",
    "persona3 = [\"Pedro\", 30, \"M\", \"Calle falsa 456\"]\n",
    "persona4 = [\"Ana\", 35, \"F\", \"Calle verdadera 456\"]\n"
   ]
  },
  {
   "cell_type": "code",
   "execution_count": 6,
   "id": "71f80318",
   "metadata": {},
   "outputs": [
    {
     "data": {
      "text/plain": [
       "['Juan', 20, 'M', 'Calle falsa 123']"
      ]
     },
     "execution_count": 6,
     "metadata": {},
     "output_type": "execute_result"
    }
   ],
   "source": [
    "persona1"
   ]
  },
  {
   "cell_type": "code",
   "execution_count": 7,
   "id": "2d02bcfe",
   "metadata": {},
   "outputs": [],
   "source": [
    "persona_lista = [persona1 + persona2 + persona3 + persona4]"
   ]
  },
  {
   "cell_type": "code",
   "execution_count": 14,
   "id": "d706dab1",
   "metadata": {},
   "outputs": [
    {
     "name": "stdout",
     "output_type": "stream",
     "text": [
      "0.25\n",
      "El promedio de edad es: 0.0\n"
     ]
    }
   ],
   "source": [
    "numero_perosnas = len(persona_lista)/4\n",
    "print(numero_perosnas)\n",
    "suma_edades = 0.0\n",
    "for age in persona_lista[1::4]:\n",
    "    suma_edades += age\n",
    "averge_age = float (suma_edades)/numero_perosnas\n",
    "print('El promedio de edad es: '+str(averge_age))"
   ]
  },
  {
   "cell_type": "code",
   "execution_count": 15,
   "id": "e5c4740d",
   "metadata": {},
   "outputs": [
    {
     "name": "stdout",
     "output_type": "stream",
     "text": [
      "[20, 30, 40, 50, 60, 70, 80, 90, 100]\n"
     ]
    }
   ],
   "source": [
    "scores = [10, 20, 30, 40, 50, 60, 70, 80, 90, 100]\n",
    "print(scores[1:])"
   ]
  },
  {
   "cell_type": "code",
   "execution_count": 17,
   "id": "f6824d71",
   "metadata": {},
   "outputs": [
    {
     "name": "stdout",
     "output_type": "stream",
     "text": [
      "[10, 20, 30, 40, 50, 60, 70, 80, 90]\n"
     ]
    }
   ],
   "source": [
    "scores.remove(100)\n",
    "print(scores)"
   ]
  },
  {
   "cell_type": "code",
   "execution_count": 18,
   "id": "d24e66a3",
   "metadata": {},
   "outputs": [
    {
     "name": "stdout",
     "output_type": "stream",
     "text": [
      "[1, 2, 3, 4, 5, 6, 7, 8, 9, 10]\n"
     ]
    },
    {
     "data": {
      "text/plain": [
       "list"
      ]
     },
     "execution_count": 18,
     "metadata": {},
     "output_type": "execute_result"
    }
   ],
   "source": [
    "lista = [1, 2, 3, 4, 5, 6, 7, 8, 9, 10]\n",
    "print(lista)\n",
    "type(lista)"
   ]
  },
  {
   "cell_type": "code",
   "execution_count": 26,
   "id": "2d6cba7b",
   "metadata": {},
   "outputs": [
    {
     "name": "stdout",
     "output_type": "stream",
     "text": [
      "(1, 2, 3, 6, 5, 2, 7, 8, 9, 10)\n",
      "\n",
      "[1, 2, 2, 3, 5, 6, 7, 8, 9, 10]\n"
     ]
    }
   ],
   "source": [
    "#La diferencia son los parentesis y los corchetes.\n",
    "tupla = (1, 2, 3, 6, 5, 2, 7, 8, 9, 10)\n",
    "print(tupla)\n",
    "type(tupla)\n",
    "print()\n",
    "ordenada = sorted(tupla)\n",
    "print(ordenada)"
   ]
  },
  {
   "cell_type": "code",
   "execution_count": 27,
   "id": "cbd5c89f",
   "metadata": {},
   "outputs": [
    {
     "name": "stdout",
     "output_type": "stream",
     "text": [
      "{'bebida': 'Coca-cola', 'comida': 'Pizza', 'postre': 'Tarta'}\n"
     ]
    }
   ],
   "source": [
    "#Diccionario\n",
    "\n",
    "menu = {'bebida': 'Coca-cola', 'comida': 'Pizza', 'postre': 'Tarta'}\n",
    "print(menu)"
   ]
  },
  {
   "cell_type": "code",
   "execution_count": 30,
   "id": "e5f27f86",
   "metadata": {},
   "outputs": [
    {
     "name": "stdout",
     "output_type": "stream",
     "text": [
      "bebida Coca-cola\n",
      "comida Pizza\n",
      "postre Tarta\n"
     ]
    }
   ],
   "source": [
    "for key in menu:\n",
    "    print(key, menu[key])"
   ]
  },
  {
   "cell_type": "code",
   "execution_count": 31,
   "id": "a7cfc84d",
   "metadata": {},
   "outputs": [
    {
     "name": "stdout",
     "output_type": "stream",
     "text": [
      "bebida Coca-cola\n",
      "comida Pizza\n",
      "postre Tarta\n"
     ]
    }
   ],
   "source": [
    "for key, value in menu.items():\n",
    "    print(key, value)"
   ]
  },
  {
   "cell_type": "code",
   "execution_count": 32,
   "id": "bf2dfe9c",
   "metadata": {},
   "outputs": [
    {
     "name": "stdout",
     "output_type": "stream",
     "text": [
      "bebida\n",
      "comida\n",
      "postre\n"
     ]
    }
   ],
   "source": [
    "for key in menu:\n",
    "    print(key)\n",
    "    "
   ]
  },
  {
   "cell_type": "code",
   "execution_count": 33,
   "id": "56167120",
   "metadata": {},
   "outputs": [
    {
     "name": "stdout",
     "output_type": "stream",
     "text": [
      "{'bebida': 'Fanta', 'comida': 'Pizza', 'postre': 'Tarta'}\n"
     ]
    }
   ],
   "source": [
    "menu['bebida'] = 'Fanta'\n",
    "print(menu)"
   ]
  },
  {
   "cell_type": "code",
   "execution_count": 34,
   "id": "93550068",
   "metadata": {},
   "outputs": [
    {
     "name": "stdout",
     "output_type": "stream",
     "text": [
      "{'bebida': 'Fanta', 'comida': 'Pizza'}\n"
     ]
    }
   ],
   "source": [
    "del menu['postre']\n",
    "print(menu)"
   ]
  },
  {
   "cell_type": "code",
   "execution_count": 35,
   "id": "592f7d5f",
   "metadata": {},
   "outputs": [
    {
     "name": "stdout",
     "output_type": "stream",
     "text": [
      "{'bebida': 'Fanta', 'comida': 'Pizza', 'postre': 'Pastel'}\n"
     ]
    }
   ],
   "source": [
    "menu ['postre'] = 'Pastel'\n",
    "print(menu)"
   ]
  }
 ],
 "metadata": {
  "kernelspec": {
   "display_name": "Python 3.8.9 64-bit",
   "language": "python",
   "name": "python3"
  },
  "language_info": {
   "codemirror_mode": {
    "name": "ipython",
    "version": 3
   },
   "file_extension": ".py",
   "mimetype": "text/x-python",
   "name": "python",
   "nbconvert_exporter": "python",
   "pygments_lexer": "ipython3",
   "version": "3.8.9"
  },
  "vscode": {
   "interpreter": {
    "hash": "31f2aee4e71d21fbe5cf8b01ff0e069b9275f58929596ceb00d14d90e3e16cd6"
   }
  }
 },
 "nbformat": 4,
 "nbformat_minor": 5
}
