{
 "cells": [
  {
   "cell_type": "markdown",
   "metadata": {},
   "source": [
    "Q.2-01"
   ]
  },
  {
   "cell_type": "code",
   "execution_count": 1,
   "metadata": {},
   "outputs": [
    {
     "name": "stdout",
     "output_type": "stream",
     "text": [
      "I like pancake.\n",
      "I like kiwi juice.\n",
      "I like espresso.\n",
      "I love pancake.\n",
      "I love kiwi juice.\n",
      "I love espresso.\n"
     ]
    }
   ],
   "source": [
    "lista1 = ['I like', 'I love']\n",
    "lista2 = ['pancake.', 'kiwi juice.', 'espresso.']\n",
    "for i in lista1:\n",
    "    for j in lista2:\n",
    "        print(i, j)\n",
    "        "
   ]
  },
  {
   "cell_type": "markdown",
   "metadata": {},
   "source": [
    "Q.2-02"
   ]
  },
  {
   "cell_type": "code",
   "execution_count": 11,
   "metadata": {},
   "outputs": [
    {
     "name": "stdout",
     "output_type": "stream",
     "text": [
      "Name: David\n",
      "Age: 26\n",
      "Weight: 82\n",
      "Job: Data Scientist\n",
      "\n",
      "Name: David\n",
      "Age: 26\n",
      "Weight: 82\n",
      "Job: Data Scientist\n",
      "Padre: John Doe\n"
     ]
    }
   ],
   "source": [
    "persona = {'Name:': 'David', 'Age:': 26, 'Weight:': 82, 'Job:': 'Data Scientist'}\n",
    "for key, value in persona.items():\n",
    "    print(key, value)\n",
    "print('')\n",
    "persona['Padre:'] = 'John Doe'\n",
    "for key, value in persona.items():\n",
    "    print(key, value)"
   ]
  },
  {
   "cell_type": "markdown",
   "metadata": {},
   "source": [
    "Q.2-03"
   ]
  },
  {
   "cell_type": "code",
   "execution_count": 15,
   "metadata": {},
   "outputs": [
    {
     "name": "stdout",
     "output_type": "stream",
     "text": [
      "[5, 6, 3, 9, 2, 12, 3, 8, 7]\n",
      "\n",
      "[5, 6, 3, 9, 2, 3, 8, 7, 12]\n"
     ]
    }
   ],
   "source": [
    "lista = [5, 6, 3, 9, 2, 12, 3, 8, 7]\n",
    "print(lista)\n",
    "print('')\n",
    "for i in range(len(lista)):\n",
    "    if lista[i] == 12:\n",
    "        lista.append(lista.pop(i))\n",
    "print(lista)"
   ]
  },
  {
   "cell_type": "markdown",
   "metadata": {},
   "source": [
    "Q.2-04"
   ]
  },
  {
   "cell_type": "code",
   "execution_count": 21,
   "metadata": {},
   "outputs": [
    {
     "name": "stdout",
     "output_type": "stream",
     "text": [
      "[[1, 2], [3, 4], [5, 6]]\n",
      "\n",
      "[1, 2, 3, 4, 5, 6]\n"
     ]
    }
   ],
   "source": [
    "matriz = [[1, 2], [3, 4], [5, 6]]\n",
    "print(matriz)\n",
    "print('')\n",
    "\n",
    "matriz_uni = []\n",
    "for i in matriz:\n",
    "    for j in i:\n",
    "        matriz_uni.append(j)\n",
    "print(matriz_uni)"
   ]
  },
  {
   "cell_type": "markdown",
   "metadata": {},
   "source": [
    "Q.2-05"
   ]
  },
  {
   "cell_type": "code",
   "execution_count": 27,
   "metadata": {},
   "outputs": [
    {
     "name": "stdout",
     "output_type": "stream",
     "text": [
      "korean 94\n",
      "english 91\n",
      "mathematics 89\n",
      "science 83\n",
      "\n",
      "Promedio: 89.25\n"
     ]
    }
   ],
   "source": [
    "maria = {'korean': 94, 'english': 91, 'mathematics': 89, 'science': 83}\n",
    "for key, value in maria.items():\n",
    "    print(key, value)\n",
    "print('')\n",
    "promedio = sum(maria.values())/len(maria)\n",
    "print('Promedio:', promedio)"
   ]
  },
  {
   "cell_type": "markdown",
   "metadata": {},
   "source": [
    "Q.2-06"
   ]
  },
  {
   "cell_type": "code",
   "execution_count": 35,
   "metadata": {},
   "outputs": [
    {
     "name": "stdout",
     "output_type": "stream",
     "text": [
      "False\n",
      "\n",
      "False\n"
     ]
    }
   ],
   "source": [
    "school = {'kim': {'age': 16, 'hei' :170, 'grade' :3}, \n",
    "'lee': {'age': 15, 'hei' :168, 'grade' :2}, \n",
    "'choi': {'age': 14, 'hei' :173, 'grade' :1}}\n",
    "\n",
    "school2 = school.copy()\n",
    "\n",
    "print(school is school2)\n",
    "print('')\n",
    "school == school2\n",
    "if school == school2:\n",
    "    print('False')\n"
   ]
  },
  {
   "cell_type": "markdown",
   "metadata": {},
   "source": [
    "Q.2-07"
   ]
  },
  {
   "cell_type": "code",
   "execution_count": 37,
   "metadata": {},
   "outputs": [
    {
     "name": "stdout",
     "output_type": "stream",
     "text": [
      "China 1391\n",
      "India 1364\n",
      "Estados Unidos 327\n",
      "Indonesia 264\n"
     ]
    }
   ],
   "source": [
    "paises = ('China', 'India', 'Estados Unidos', 'Indonesia')\n",
    "poblaciones = (1391, 1364, 327, 264)\n",
    "paises_poblaciones = dict(zip(paises, poblaciones))\n",
    "for key, value in paises_poblaciones.items():\n",
    "    print(key, value)\n"
   ]
  }
 ],
 "metadata": {
  "kernelspec": {
   "display_name": "Python 3.8.9 64-bit",
   "language": "python",
   "name": "python3"
  },
  "language_info": {
   "codemirror_mode": {
    "name": "ipython",
    "version": 3
   },
   "file_extension": ".py",
   "mimetype": "text/x-python",
   "name": "python",
   "nbconvert_exporter": "python",
   "pygments_lexer": "ipython3",
   "version": "3.8.9"
  },
  "orig_nbformat": 4,
  "vscode": {
   "interpreter": {
    "hash": "31f2aee4e71d21fbe5cf8b01ff0e069b9275f58929596ceb00d14d90e3e16cd6"
   }
  }
 },
 "nbformat": 4,
 "nbformat_minor": 2
}
