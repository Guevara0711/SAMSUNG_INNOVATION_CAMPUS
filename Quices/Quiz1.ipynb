{
 "cells": [
  {
   "cell_type": "markdown",
   "metadata": {},
   "source": [
    "Q. 01-01"
   ]
  },
  {
   "cell_type": "code",
   "execution_count": 3,
   "metadata": {},
   "outputs": [
    {
     "name": "stdout",
     "output_type": "stream",
     "text": [
      "1\n",
      "2\n",
      "3\n",
      "4\n",
      "5\n"
     ]
    }
   ],
   "source": [
    "#imprime valores numericos del 1 al 5\n",
    "for i in range(1,6):\n",
    "    print(i)"
   ]
  },
  {
   "cell_type": "markdown",
   "metadata": {},
   "source": [
    "Q. 02-01"
   ]
  },
  {
   "cell_type": "code",
   "execution_count": 27,
   "metadata": {},
   "outputs": [
    {
     "name": "stdout",
     "output_type": "stream",
     "text": [
      "560\n"
     ]
    }
   ],
   "source": [
    "#suma de numeros pares de 20 al 50\n",
    "suma=0\n",
    "for i in range(20,51,2):\n",
    "    suma+=i\n",
    "print(suma)"
   ]
  },
  {
   "cell_type": "markdown",
   "metadata": {},
   "source": [
    "Q. 02-02"
   ]
  },
  {
   "cell_type": "code",
   "execution_count": 2,
   "metadata": {},
   "outputs": [
    {
     "name": "stdout",
     "output_type": "stream",
     "text": [
      "El numero es par\n"
     ]
    }
   ],
   "source": [
    "#recibe un numero entero y devuelve si es par o impar\n",
    "def es_par(numero):\n",
    "    if numero%2==0:\n",
    "        return True\n",
    "    else:\n",
    "        return False\n",
    "\n",
    "input_numero=int(input(\"Ingrese un numero: \"))\n",
    "if es_par(input_numero):\n",
    "    print(\"El numero es par\")\n",
    "else:\n",
    "    print(\"El numero es impar\")"
   ]
  },
  {
   "cell_type": "markdown",
   "metadata": {},
   "source": [
    "Q. 03-01"
   ]
  },
  {
   "cell_type": "code",
   "execution_count": 36,
   "metadata": {},
   "outputs": [
    {
     "name": "stdout",
     "output_type": "stream",
     "text": [
      "**************************************************\n",
      "                                                  \n",
      "##################################################\n"
     ]
    }
   ],
   "source": [
    "#decorativo con asteriscos y espacios\n",
    "print(\"*\"*50)\n",
    "print(\" \"*50)\n",
    "print(\"#\"*50)\n"
   ]
  },
  {
   "cell_type": "code",
   "execution_count": 40,
   "metadata": {},
   "outputs": [
    {
     "name": "stdout",
     "output_type": "stream",
     "text": [
      "*  *  *  *  *  \n",
      "*  *  *  *  *  \n",
      "*  *  *  *  *  \n",
      "*  *  *  *  *  \n",
      "*  *  *  *  *  \n"
     ]
    }
   ],
   "source": [
    "def decorativo2(numero):\n",
    "    for i in range(numero):\n",
    "        print(\"*\"\"  \"*numero)\n",
    "\n",
    "input_numero=int(input(\"Ingrese un número: \"))\n",
    "decorativo2(input_numero)"
   ]
  },
  {
   "cell_type": "markdown",
   "metadata": {},
   "source": [
    "Q 04-01"
   ]
  },
  {
   "cell_type": "code",
   "execution_count": 25,
   "metadata": {},
   "outputs": [
    {
     "name": "stdout",
     "output_type": "stream",
     "text": [
      "Pedro\n",
      "Calle x avenida y\n"
     ]
    }
   ],
   "source": [
    "#variable que guarda el nombre y direccion de una persona\n",
    "persona={\n",
    "    \"nombre\":\"Pedro\",\n",
    "    \"direccion\":\"Calle x avenida y\"\n",
    "}\n",
    "print(persona[\"nombre\"])\n",
    "print(persona[\"direccion\"])\n"
   ]
  },
  {
   "cell_type": "markdown",
   "metadata": {},
   "source": [
    "Q. 05-01"
   ]
  },
  {
   "cell_type": "code",
   "execution_count": 59,
   "metadata": {},
   "outputs": [
    {
     "name": "stdout",
     "output_type": "stream",
     "text": [
      "True\n",
      "True\n"
     ]
    }
   ],
   "source": [
    "#imprime la funcion and y or en base a x y y \n",
    "def and_or(x,y):\n",
    "    if x and y:\n",
    "        return True\n",
    "    else:\n",
    "        return False\n",
    "\n",
    "def and_or2(x,y):\n",
    "    if x or y:\n",
    "        return True\n",
    "    else:\n",
    "        return False\n",
    "\n",
    "input_x=input(\"Ingrese un valor para x: \")\n",
    "input_y=input(\"Ingrese un valor para y: \")\n",
    "print(and_or(input_x,input_y))\n",
    "print(and_or2(input_x,input_y))"
   ]
  },
  {
   "cell_type": "markdown",
   "metadata": {},
   "source": [
    "Q. 06-01"
   ]
  },
  {
   "cell_type": "code",
   "execution_count": 69,
   "metadata": {},
   "outputs": [
    {
     "name": "stdout",
     "output_type": "stream",
     "text": [
      "No se permiten enteros iguales\n"
     ]
    }
   ],
   "source": [
    "#ingrese dos numeros enteros \n",
    "input_n1=int(input(\"Ingrese el primer numeros: \"))\n",
    "input_n2=int(input(\"Ingrese el segundo numeros: \"))\n",
    "\n",
    "#input 1 es diferente a input 2\n",
    "if input_n1!=input_n2:\n",
    "    if input_n1<input_n2:\n",
    "        print(input_n1,input_n2)\n",
    "    else:\n",
    "        print(input_n2,input_n1)\n",
    "else:\n",
    "    print(\"No se permiten enteros iguales\")"
   ]
  },
  {
   "cell_type": "markdown",
   "metadata": {},
   "source": [
    "Q. 07-01"
   ]
  },
  {
   "cell_type": "code",
   "execution_count": 79,
   "metadata": {},
   "outputs": [
    {
     "name": "stdout",
     "output_type": "stream",
     "text": [
      "Es un niño\n"
     ]
    }
   ],
   "source": [
    "#preguntar si es adulto o niño. si es adulto preguntar si esta soltero o casado\n",
    "try:\n",
    "    input_edad=int(input(\"Ingrese su edad: \"))\n",
    "    if input_edad>=18:\n",
    "        input_estado_civil=input(\"Ingrese su estado civil: \")\n",
    "        if input_estado_civil==\"soltero\":\n",
    "            print(\"Es un adulto soltero\")\n",
    "        elif input_estado_civil==\"casado\":\n",
    "            print(\"Es un adulto casado\")\n",
    "        else:\n",
    "            print(\"No es un adulto\")\n",
    "    else:\n",
    "        print(\"Es un niño\")\n",
    "except ValueError:\n",
    "    print(\"Ingrese un numero entero\")"
   ]
  },
  {
   "cell_type": "markdown",
   "metadata": {},
   "source": [
    "Q. 08-01"
   ]
  },
  {
   "cell_type": "code",
   "execution_count": 80,
   "metadata": {},
   "outputs": [
    {
     "name": "stdout",
     "output_type": "stream",
     "text": [
      "2 es primo\n",
      "3 es primo\n",
      "4 no es primo\n",
      "5 es primo\n",
      "6 no es primo\n",
      "7 es primo\n",
      "8 no es primo\n",
      "9 no es primo\n",
      "10 no es primo\n",
      "11 es primo\n",
      "12 no es primo\n"
     ]
    }
   ],
   "source": [
    "#numeros primos y compuestos del 2 al 12 \n",
    "for i in range(2,13):\n",
    "    contador=0\n",
    "    for j in range(1,i+1):\n",
    "        if i%j==0:\n",
    "            contador+=1\n",
    "    if contador==2:\n",
    "        print(i,\"es primo\")\n",
    "    else:\n",
    "        print(i,\"no es primo\")\n",
    "        "
   ]
  },
  {
   "cell_type": "markdown",
   "metadata": {},
   "source": [
    "Q. 09-01"
   ]
  },
  {
   "cell_type": "code",
   "execution_count": 81,
   "metadata": {},
   "outputs": [
    {
     "name": "stdout",
     "output_type": "stream",
     "text": [
      "153\n",
      "370\n",
      "371\n",
      "407\n"
     ]
    }
   ],
   "source": [
    "#numeros de armstrong del 100 al 999\n",
    "for i in range(100,1000):\n",
    "    suma=0\n",
    "    for j in range(0,len(str(i))):\n",
    "        suma+=int(str(i)[j])**len(str(i))\n",
    "    if suma==i:\n",
    "        print(i)\n"
   ]
  }
 ],
 "metadata": {
  "kernelspec": {
   "display_name": "Python 3.8.9 64-bit",
   "language": "python",
   "name": "python3"
  },
  "language_info": {
   "codemirror_mode": {
    "name": "ipython",
    "version": 3
   },
   "file_extension": ".py",
   "mimetype": "text/x-python",
   "name": "python",
   "nbconvert_exporter": "python",
   "pygments_lexer": "ipython3",
   "version": "3.9.6"
  },
  "orig_nbformat": 4,
  "vscode": {
   "interpreter": {
    "hash": "31f2aee4e71d21fbe5cf8b01ff0e069b9275f58929596ceb00d14d90e3e16cd6"
   }
  }
 },
 "nbformat": 4,
 "nbformat_minor": 2
}
