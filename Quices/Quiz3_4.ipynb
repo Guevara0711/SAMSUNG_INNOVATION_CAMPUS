{
 "cells": [
  {
   "cell_type": "markdown",
   "metadata": {},
   "source": [
    "Q.03-01"
   ]
  },
  {
   "cell_type": "code",
   "execution_count": 18,
   "metadata": {},
   "outputs": [
    {
     "name": "stdout",
     "output_type": "stream",
     "text": [
      "La distancia entre los puntos es:  2.8284271247461903\n",
      " \n",
      "Los puntos escogidos son: \n",
      "3.0\n",
      "7.0\n",
      "5.0\n",
      "9.0\n"
     ]
    }
   ],
   "source": [
    "import math\n",
    "\n",
    "def distancia(x1, y1, x2, y2):\n",
    "    return math.sqrt((x2-x1)**2 + (y2-y1)**2)\n",
    "\n",
    "x1 = float(input(\"Ingrese la coordenada x1: \"))\n",
    "y1 = float(input(\"Ingrese la coordenada y1: \"))\n",
    "x2 = float(input(\"Ingrese la coordenada x2: \"))\n",
    "y2 = float(input(\"Ingrese la coordenada y2: \"))\n",
    "print(\"La distancia entre los puntos es: \", distancia(x1, y1, x2, y2))\n",
    "\n",
    "print(\" \")\n",
    "print(\"Los puntos escogidos son: \")\n",
    "\n",
    "def recorre(lista):\n",
    "    for i in range(len(lista)):\n",
    "        print(lista[i])\n",
    "\n",
    "lista = [x1, y1, x2, y2]\n",
    "recorre(lista)\n"
   ]
  },
  {
   "cell_type": "markdown",
   "metadata": {},
   "source": [
    "Q.03-02"
   ]
  },
  {
   "cell_type": "code",
   "execution_count": 14,
   "metadata": {},
   "outputs": [
    {
     "name": "stdout",
     "output_type": "stream",
     "text": [
      "El palindromo es:  ana\n",
      "\n",
      "Veracidad del palindromo:  True\n"
     ]
    }
   ],
   "source": [
    "def palindromo(cadena1):\n",
    "    def recorre(cadena1, i):\n",
    "        if i == 0:\n",
    "            return cadena1[i]\n",
    "        else:\n",
    "            return cadena1[i] + recorre(cadena1, i-1)\n",
    "    return recorre(cadena1, len(cadena1)-1)\n",
    "\n",
    "\n",
    "def is_palindrome(cadena):\n",
    "    def is_palindrome_aux(cadena, i, j):\n",
    "        if i >= j:\n",
    "            return True\n",
    "        elif cadena[i] != cadena[j]:\n",
    "            return False\n",
    "        else:\n",
    "            return is_palindrome_aux(cadena, i+1, j-1)\n",
    "    return is_palindrome_aux(cadena, 0, len(cadena)-1)\n",
    "\n",
    "cadena = input(\"Ingrese una cadena: \")\n",
    "cadena1 = cadena.lower()\n",
    "print(\"El palindromo es: \", palindromo(cadena1))\n",
    "print(\"\")\n",
    "print(\"Veracidad del palindromo: \", is_palindrome(cadena))"
   ]
  },
  {
   "cell_type": "markdown",
   "metadata": {},
   "source": [
    "Q.03-03"
   ]
  },
  {
   "cell_type": "code",
   "execution_count": 20,
   "metadata": {},
   "outputs": [
    {
     "name": "stdout",
     "output_type": "stream",
     "text": [
      "La lista original es : [10, 20, 30]\n",
      "La lista duplicada es : [20, 40, 60]\n",
      "La lista triplicada es : [30, 60, 90]\n",
      "La lista cuadruplicada es : [40, 80, 120]\n"
     ]
    }
   ],
   "source": [
    "n_list = [10, 20, 30]\n",
    "print(\"La lista original es : \" + str(n_list))\n",
    "\n",
    "duplicar = list(map(lambda x: x * 2, n_list))\n",
    "print (\"La lista duplicada es : \" + str(duplicar))\n",
    "\n",
    "triplicar = list(map(lambda x: x * 3, n_list))\n",
    "print (\"La lista triplicada es : \" + str(triplicar))\n",
    "\n",
    "cuadruplicar = list(map(lambda x: x * 4, n_list))\n",
    "print (\"La lista cuadruplicada es : \" + str(cuadruplicar))\n"
   ]
  },
  {
   "cell_type": "markdown",
   "metadata": {},
   "source": [
    "Q.03-04"
   ]
  },
  {
   "cell_type": "code",
   "execution_count": 1,
   "metadata": {},
   "outputs": [
    {
     "name": "stdout",
     "output_type": "stream",
     "text": [
      "1\n",
      "4\n",
      "27\n",
      "256\n",
      "3125\n"
     ]
    }
   ],
   "source": [
    "def calc_digit(n): # n es un entero\n",
    "    def final (digit): # digit es un entero\n",
    "        return digit**n # retorna un entero\n",
    "    return final # retorna una función\n",
    "\n",
    "num_list = [] # lista vacía\n",
    "for num in range (1,6): # num es un entero\n",
    "    num_list.append(calc_digit(num)) # num_list es una lista de funciones\n",
    "    print (num_list[num-1](num)) # imprime el resultado de la función en la posición num-1 de la lista num_list"
   ]
  },
  {
   "cell_type": "markdown",
   "metadata": {},
   "source": [
    "Q.03-05"
   ]
  },
  {
   "cell_type": "code",
   "execution_count": 39,
   "metadata": {},
   "outputs": [
    {
     "name": "stdout",
     "output_type": "stream",
     "text": [
      "v1 * v2 = 600\n",
      "v1 / v2 = 4.0\n"
     ]
    }
   ],
   "source": [
    "class Vector2D:\n",
    "    def __init__(self, x, y):\n",
    "        self.x = x\n",
    "        self.y = y\n",
    "\n",
    "    def __mul__(self, other):\n",
    "        return self.x * other.y\n",
    "\n",
    "    def __truediv__(self, other):\n",
    "        return self.y / other.x\n",
    "\n",
    "    def __str__(self):\n",
    "        return \"El resultado es: \"\n",
    "\n",
    "v1 = Vector2D(30, 40)\n",
    "v2 = Vector2D(10, 20)\n",
    "v3 = v1 * v2\n",
    "v4 = v1 / v2\n",
    "print(\"v1 * v2 =\",v3)\n",
    "print(\"v1 / v2 =\",v4)"
   ]
  },
  {
   "cell_type": "markdown",
   "metadata": {},
   "source": [
    "Q.04-01"
   ]
  },
  {
   "cell_type": "code",
   "execution_count": 7,
   "metadata": {},
   "outputs": [
    {
     "name": "stdout",
     "output_type": "stream",
     "text": [
      "['Banana', 'Apple', 'Strawberry']\n"
     ]
    }
   ],
   "source": [
    "class Stack: # Clase Stack\n",
    "    def __init__(self): # Constructor\n",
    "        self.stack = [] # Lista vacía\n",
    "    def push(self, item): # Método push\n",
    "        self.stack.append(item) # Agrega un elemento a la lista\n",
    "    def pop(self): # Método pop\n",
    "        return self.stack.pop() # Elimina el último elemento de la lista\n",
    "    def peek(self): # Método peek\n",
    "        return self.stack[-1] # Retorna el último elemento de la lista\n",
    "    def is_empty(self): # Método is_empty\n",
    "        return self.stack == [] # Retorna True si la lista está vacía\n",
    "    def get_stack(self): # Método get_stack\n",
    "        return self.stack # Retorna la lista\n",
    "\n",
    "stack = Stack() # Instancia de la clase Stack\n",
    "stack.push(\"Banana\") # Agrega un elemento a la lista\n",
    "stack.push(\"Apple\") \n",
    "stack.push(\"Tomato\")\n",
    "stack.pop() # Elimina el último elemento de la lista\n",
    "stack.push(\"Strawberry\") # Agrega un elemento a la lista\n",
    "stack.push(\"Grapes\")\n",
    "stack.pop() # Elimina el último elemento de la lista\n",
    "print(stack.stack) # Imprime la lista\n"
   ]
  },
  {
   "cell_type": "markdown",
   "metadata": {},
   "source": [
    "Q.04-02"
   ]
  },
  {
   "cell_type": "code",
   "execution_count": 8,
   "metadata": {},
   "outputs": [
    {
     "name": "stdout",
     "output_type": "stream",
     "text": [
      "[10, 30, 50, 70, 90]\n"
     ]
    }
   ],
   "source": [
    "stack = Stack() # Instancia de la clase Stack\n",
    "items = [10 * i for i in range(1, 10)] # Lista de números del 10 al 90\n",
    "for item in items: # Ciclo for\n",
    "    stack.push(item) # Agrega un elemento a la lista\n",
    "    if (item // 10) % 2 == 0: # Si el número es par y termina en 0\n",
    "        stack.pop() # Elimina el último elemento de la lista\n",
    "print(stack.stack) # Imprime la lista"
   ]
  },
  {
   "cell_type": "markdown",
   "metadata": {},
   "source": [
    "Q.04-03"
   ]
  },
  {
   "cell_type": "code",
   "execution_count": 10,
   "metadata": {},
   "outputs": [
    {
     "name": "stdout",
     "output_type": "stream",
     "text": [
      "[60, 70, 80, 90, 100]\n"
     ]
    }
   ],
   "source": [
    "class Queue: # Clase Queue\n",
    "    def __init__(self): # Constructor\n",
    "        self.queue = [] # Lista vacía\n",
    "    def enqueue(self, item): # Método enqueue\n",
    "        self.queue.append(item) # Agrega un elemento a la lista\n",
    "    def dequeue(self): # Método dequeue\n",
    "        return self.queue.pop(0) # Elimina el primer elemento de la lista\n",
    "    def is_empty(self): # Método is_empty\n",
    "        return self.queue == [] # Retorna True si la lista está vacía\n",
    "    def get_queue(self): # Método get_queue\n",
    "        return self.queue # Retorna la lista\n",
    "\n",
    "queue = Queue() # Instancia de la clase Queue\n",
    "items = [10 * i for i in range(1, 11)] # Lista de números del 10 al 100\n",
    "for item in items: # Ciclo for\n",
    "    queue.enqueue(item) # Agrega un elemento a la lista\n",
    "    if (item // 10) % 2 == 0: # Si el número es par y termina en 0\n",
    "        queue.dequeue() # Elimina el primer elemento de la lista\n",
    "print(queue.queue) # Imprime la lista\n"
   ]
  },
  {
   "cell_type": "markdown",
   "metadata": {},
   "source": [
    "Q.04-04"
   ]
  },
  {
   "cell_type": "code",
   "execution_count": 47,
   "metadata": {},
   "outputs": [],
   "source": [
    "def find_two(nums):\n",
    "    x = y = 0\n",
    "    for i in range(1, len(nums)):\n",
    "        if nums[x] > nums[i]:\n",
    "            x = i\n",
    "        elif nums[y] > nums[i]:\n",
    "            y = i\n",
    "    return x, y"
   ]
  },
  {
   "cell_type": "code",
   "execution_count": 49,
   "metadata": {},
   "outputs": [
    {
     "name": "stdout",
     "output_type": "stream",
     "text": [
      "11 11\n"
     ]
    }
   ],
   "source": [
    "nums = [11, 37, 45, 26, 59, 28, 17, 53]\n",
    "i, j, = find_two(nums)\n",
    "print(nums[i], nums[j])"
   ]
  },
  {
   "cell_type": "markdown",
   "metadata": {},
   "source": [
    "Q.04-06"
   ]
  },
  {
   "cell_type": "code",
   "execution_count": 59,
   "metadata": {},
   "outputs": [
    {
     "name": "stdout",
     "output_type": "stream",
     "text": [
      "Your number is 25.\n",
      "Total 2 times are search.\n"
     ]
    }
   ],
   "source": [
    "from random import randint\n",
    "maximun = int(input(\"Enter the  number of maximum: \"))\n",
    "number = int(input(\"Enter your guessing number: \"))\n",
    "count = 0\n",
    "low, high = 1, maximun\n",
    "while low < high:\n",
    "    mid = (low + high) // 2\n",
    "    count += 1\n",
    "    if mid == number:\n",
    "        print(f\"Your number is {number}.\")\n",
    "        break\n",
    "    elif mid > number:\n",
    "        high = mid - 1\n",
    "    else:\n",
    "        low = mid + 1\n",
    "print(f\"Total {count} times are search.\")"
   ]
  },
  {
   "cell_type": "code",
   "execution_count": 58,
   "metadata": {},
   "outputs": [
    {
     "name": "stdout",
     "output_type": "stream",
     "text": [
      "El numero es 25.\n",
      "Total 2 veces se busco.\n"
     ]
    }
   ],
   "source": [
    "from random import randint\n",
    "maximun = int(input(\"Ingrese el numero maximo: \"))\n",
    "number = int(input(\"Ingrese el numero a adivinar: \"))\n",
    "count = 0\n",
    "low, high = 1, maximun\n",
    "while low < high:\n",
    "    mid = (low + high) // 2\n",
    "    count += 1\n",
    "    if mid == number:\n",
    "        print(f\"El numero es {number}.\")\n",
    "        break\n",
    "    elif mid > number:\n",
    "        high = mid - 1\n",
    "    else:\n",
    "        low = mid + 1\n",
    "print(f\"Total {count} veces se busco.\")\n"
   ]
  },
  {
   "cell_type": "markdown",
   "metadata": {},
   "source": [
    "Q.04-08"
   ]
  },
  {
   "cell_type": "code",
   "execution_count": 46,
   "metadata": {},
   "outputs": [
    {
     "name": "stdout",
     "output_type": "stream",
     "text": [
      "0x10b893090\n"
     ]
    }
   ],
   "source": [
    "\n",
    "class hash_table:\n",
    "    def __init__(self):\n",
    "        self.table = [None] * 127\n",
    "    \n",
    "    # Función hash\n",
    "    def Hash_func(self, value):\n",
    "        key = 0\n",
    "        for i in range(0,len(value)):\n",
    "            key += ord(value[i])\n",
    "        return key % 127\n",
    "\n",
    "    def Insert(self, value): # Metodo para ingresar elementos\n",
    "        hash = self.Hash_func(value)\n",
    "        if self.table[hash] is None:\n",
    "            self.table[hash] = value\n",
    "   \n",
    "    def Search(self,value): # Metodo para buscar elementos\n",
    "        hash = self.Hash_func(value);\n",
    "        if self.table[hash] is None:\n",
    "            return None\n",
    "        else:\n",
    "            return hex(id(self.table[hash]))\n",
    "  \n",
    "    def Remove(self,value): # Metodo para eleminar elementos\n",
    "        hash = self.Hash_func(value);\n",
    "        if self.table[hash] is None:\n",
    "            print(\"No hay elementos con ese valor\", value)\n",
    "        else:\n",
    "            print(\"Elemento con valor\", value, \"eliminado\")\n",
    "            self.table[hash] is None;\n",
    "        \n",
    "        \n",
    "H = hash_table()\n",
    "H.Insert(\"Alicia en el pais de las maravillas\")\n",
    "\n",
    "print(H.Search(\"Alicia en el pais de las maravillas\"))\n"
   ]
  },
  {
   "cell_type": "markdown",
   "metadata": {},
   "source": [
    "Q.04-09"
   ]
  },
  {
   "cell_type": "code",
   "execution_count": 93,
   "metadata": {},
   "outputs": [
    {
     "name": "stdout",
     "output_type": "stream",
     "text": [
      "1298 El principito\n",
      "1496 El viejo y el mar\n",
      "1068 La sirenita\n",
      "1771 La bella y la bestia\n",
      "3209 Alicia en el pais de las maravillas\n"
     ]
    }
   ],
   "source": [
    "def create_key(book):\n",
    "    key = sum(map(ord, book))\n",
    "    return key\n",
    "\n",
    "def create_hash_table():\n",
    "    hash_table = {}\n",
    "    return hash_table\n",
    "\n",
    "def add_book(hash_table, book):\n",
    "    key = create_key(book)\n",
    "    hash_table[key] = book\n",
    "    return hash_table\n",
    "\n",
    "def show_books(hash_table):\n",
    "    for key in hash_table.keys():\n",
    "        print(key, hash_table[key])\n",
    "\n",
    "hash_table = create_hash_table()\n",
    "\n",
    "add_book(hash_table, \"El principito\")\n",
    "add_book(hash_table, \"El viejo y el mar\")\n",
    "add_book(hash_table, \"La sirenita\")\n",
    "add_book(hash_table, \"La bella y la bestia\")\n",
    "add_book(hash_table, \"Alicia en el pais de las maravillas\")\n",
    "\n",
    "show_books(hash_table)"
   ]
  }
 ],
 "metadata": {
  "kernelspec": {
   "display_name": "Python 3.9.6 64-bit",
   "language": "python",
   "name": "python3"
  },
  "language_info": {
   "codemirror_mode": {
    "name": "ipython",
    "version": 3
   },
   "file_extension": ".py",
   "mimetype": "text/x-python",
   "name": "python",
   "nbconvert_exporter": "python",
   "pygments_lexer": "ipython3",
   "version": "3.9.6"
  },
  "orig_nbformat": 4,
  "vscode": {
   "interpreter": {
    "hash": "31f2aee4e71d21fbe5cf8b01ff0e069b9275f58929596ceb00d14d90e3e16cd6"
   }
  }
 },
 "nbformat": 4,
 "nbformat_minor": 2
}
