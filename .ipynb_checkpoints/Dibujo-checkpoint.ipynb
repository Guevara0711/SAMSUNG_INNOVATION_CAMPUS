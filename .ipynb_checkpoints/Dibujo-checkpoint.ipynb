{
 "cells": [
  {
   "cell_type": "code",
   "execution_count": 1,
   "metadata": {},
   "outputs": [],
   "source": [
    "import turtle\n",
    "import random\n",
    "\n",
    "wn=turtle.Screen()\n",
    "wn.setup(600,600)\n",
    "#wn.bgcolor(“blue”)\n",
    "s=turtle.Turtle()\n",
    "\n",
    "\n",
    "s.forward(100)\n",
    "s.left(90)\n",
    "s.forward(100)\n",
    "s.left(90)\n",
    "s.forward(100)\n",
    "s.left(90)   \n",
    "s.forward(100)\n",
    "s.right(90)\n",
    "s.forward(100)\n",
    "s.right(90)\n",
    "s.forward(100)\n",
    "s.right(90)\n",
    "s.forward(100)\n",
    "s.right(90)\n",
    "\n",
    "\n",
    "turtle.done()"
   ]
  },
  {
   "cell_type": "code",
   "execution_count": null,
   "metadata": {},
   "outputs": [],
   "source": []
  }
 ],
 "metadata": {
  "kernelspec": {
   "display_name": "Python 3 (ipykernel)",
   "language": "python",
   "name": "python3"
  },
  "language_info": {
   "codemirror_mode": {
    "name": "ipython",
    "version": 3
   },
   "file_extension": ".py",
   "mimetype": "text/x-python",
   "name": "python",
   "nbconvert_exporter": "python",
   "pygments_lexer": "ipython3",
   "version": "3.9.12"
  },
  "vscode": {
   "interpreter": {
    "hash": "31f2aee4e71d21fbe5cf8b01ff0e069b9275f58929596ceb00d14d90e3e16cd6"
   }
  }
 },
 "nbformat": 4,
 "nbformat_minor": 2
}
