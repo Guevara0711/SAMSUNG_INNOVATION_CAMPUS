{
 "cells": [
  {
   "cell_type": "code",
   "execution_count": null,
   "metadata": {},
   "outputs": [],
   "source": [
    "#!pip install tensorflow\n",
    "#!pip install keras\n",
    "\n",
    "\n",
    "from tensorflow.keras.applications.resnet50 import ResNet50\n",
    "from keras.utils import load_img, img_to_array\n",
    "from tensorflow.keras.applications.resnet50 import preprocess_input, decode_predictions\n",
    "import numpy as np\n",
    "from scipy.spatial import distance\n",
    "import os\n",
    "\n",
    "# Load the ResNet50 model\n",
    "model = ResNet50(weights='imagenet')\n",
    "\n",
    "\n",
    "#Get the last image in the folder to make it the one to compare to\n",
    "datapath = \"/content/data\"\n",
    "files = os.listdir(datapath)\n",
    "files.sort(key=lambda x: os.path.getmtime(os.path.join(datapath, x)))\n",
    "last_image = files[-1]\n",
    "\n",
    "# Load the image you want to compare\n",
    "img_to_compare = load_img(last_image, target_size=(224, 224))\n",
    "img_to_compare = img_to_array(img_to_compare)\n",
    "img_to_compare = np.expand_dims(img_to_compare, axis=0)\n",
    "img_to_compare = preprocess_input(img_to_compare)\n",
    "\n",
    "# Extract feature vector for the image\n",
    "feature_vec_to_compare = model.predict(img_to_compare)\n",
    "\n",
    "# Iterate over all images in the folder\n",
    "import os\n",
    "folder_path = \"/content/data2\"\n",
    "for filename in os.listdir(folder_path):\n",
    "    if filename.endswith(\".jpg\"):\n",
    "        # Load and preprocess the image\n",
    "        img = load_img(os.path.join(folder_path, filename), target_size=(224, 224))\n",
    "        img = img_to_array(img)\n",
    "        img = np.expand_dims(img, axis=0)\n",
    "        img = preprocess_input(img)\n",
    "\n",
    "        # Extract feature vector for the image\n",
    "        feature_vec = model.predict(img)\n",
    "        \n",
    "        # Compute distance between the feature vectors\n",
    "        dist = distance.euclidean(feature_vec_to_compare, feature_vec)\n",
    "        if dist == 0:\n",
    "          print(\"Existe el producto\")\n",
    "        else:\n",
    "          print(\"no tenemos de ese producto\")"
   ]
  }
 ],
 "metadata": {
  "kernelspec": {
   "display_name": "base",
   "language": "python",
   "name": "python3"
  },
  "language_info": {
   "name": "python",
   "version": "3.9.12 (main, Apr  5 2022, 01:53:17) \n[Clang 12.0.0 ]"
  },
  "orig_nbformat": 4,
  "vscode": {
   "interpreter": {
    "hash": "40d3a090f54c6569ab1632332b64b2c03c39dcf918b08424e98f38b5ae0af88f"
   }
  }
 },
 "nbformat": 4,
 "nbformat_minor": 2
}
