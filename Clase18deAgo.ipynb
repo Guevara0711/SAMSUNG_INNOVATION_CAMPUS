{
 "cells": [
  {
   "cell_type": "code",
   "execution_count": null,
   "id": "aa210bb7",
   "metadata": {},
   "outputs": [],
   "source": [
    "#Codigo de la clase del 18 de agosto de 2022"
   ]
  },
  {
   "cell_type": "code",
   "execution_count": 5,
   "id": "137cd0a0",
   "metadata": {},
   "outputs": [
    {
     "name": "stdout",
     "output_type": "stream",
     "text": [
      "100\n",
      "El resultado es:  30000\n",
      "El resultado es:  400\n",
      "El resultado es:  0.3333333333333333\n",
      "El resultado es:  -200\n",
      "El resultado es:  400\n"
     ]
    }
   ],
   "source": [
    "A=100\n",
    "B=300\n",
    "print(A)\n",
    "print('El resultado es: ', A*B)\n",
    "print('El resultado es: ', A+B)\n",
    "print('El resultado es: ', A/B)\n",
    "print('El resultado es: ', A-B)\n",
    "C=A+B\n",
    "print('El resultado es: ', C)"
   ]
  },
  {
   "cell_type": "code",
   "execution_count": 15,
   "id": "feae9045",
   "metadata": {},
   "outputs": [
    {
     "name": "stdout",
     "output_type": "stream",
     "text": [
      "El indice de masa corporal de  Pedro  es:  0.5555555555555556\n"
     ]
    }
   ],
   "source": [
    "nombre = input('Ingrese su nombre: ')\n",
    "tamano = float(input('Ingrese su tamano: '))\n",
    "peso = float(input('Ingrese su peso en kg: '))\n",
    "resultado = peso / (tamano ** 2)\n",
    "print('El indice de masa corporal de ',nombre, ' es: ', resultado)\n"
   ]
  }
 ],
 "metadata": {
  "kernelspec": {
   "display_name": "Python 3.9.12 ('base')",
   "language": "python",
   "name": "python3"
  },
  "language_info": {
   "codemirror_mode": {
    "name": "ipython",
    "version": 3
   },
   "file_extension": ".py",
   "mimetype": "text/x-python",
   "name": "python",
   "nbconvert_exporter": "python",
   "pygments_lexer": "ipython3",
   "version": "3.9.12"
  },
  "vscode": {
   "interpreter": {
    "hash": "40d3a090f54c6569ab1632332b64b2c03c39dcf918b08424e98f38b5ae0af88f"
   }
  }
 },
 "nbformat": 4,
 "nbformat_minor": 5
}
